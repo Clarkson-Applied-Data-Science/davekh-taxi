{
 "cells": [
  {
   "cell_type": "markdown",
   "id": "627b5dd9-31f0-4504-b87d-a494cec93b43",
   "metadata": {
    "id": "627b5dd9-31f0-4504-b87d-a494cec93b43"
   },
   "source": [
    "## 1) a) Number of rows "
   ]
  },
  {
   "cell_type": "code",
   "execution_count": 1,
   "id": "ad4c32fe-a611-48d4-857e-42420883ff43",
   "metadata": {
    "colab": {
     "base_uri": "https://localhost:8080/"
    },
    "id": "ad4c32fe-a611-48d4-857e-42420883ff43",
    "outputId": "d7dda296-b233-480d-fee5-fc009dfa8550"
   },
   "outputs": [
    {
     "ename": "FileNotFoundError",
     "evalue": "[Errno 2] No such file or directory: 'trip_data_6.csv'",
     "output_type": "error",
     "traceback": [
      "\u001b[1;31m---------------------------------------------------------------------------\u001b[0m",
      "\u001b[1;31mFileNotFoundError\u001b[0m                         Traceback (most recent call last)",
      "\u001b[1;32m~\\AppData\\Local\\Temp\\ipykernel_17688\\3708497362.py\u001b[0m in \u001b[0;36m<module>\u001b[1;34m\u001b[0m\n\u001b[0;32m      1\u001b[0m \u001b[1;32mimport\u001b[0m \u001b[0mcsv\u001b[0m\u001b[1;33m\u001b[0m\u001b[1;33m\u001b[0m\u001b[0m\n\u001b[0;32m      2\u001b[0m \u001b[1;33m\u001b[0m\u001b[0m\n\u001b[1;32m----> 3\u001b[1;33m \u001b[0mf\u001b[0m \u001b[1;33m=\u001b[0m \u001b[0mopen\u001b[0m\u001b[1;33m(\u001b[0m\u001b[1;34m'trip_data_6.csv'\u001b[0m\u001b[1;33m,\u001b[0m \u001b[1;34m'r'\u001b[0m\u001b[1;33m)\u001b[0m\u001b[1;33m\u001b[0m\u001b[1;33m\u001b[0m\u001b[0m\n\u001b[0m\u001b[0;32m      4\u001b[0m \u001b[0mreader\u001b[0m \u001b[1;33m=\u001b[0m \u001b[0mcsv\u001b[0m\u001b[1;33m.\u001b[0m\u001b[0mreader\u001b[0m\u001b[1;33m(\u001b[0m\u001b[0mf\u001b[0m\u001b[1;33m)\u001b[0m\u001b[1;33m\u001b[0m\u001b[1;33m\u001b[0m\u001b[0m\n\u001b[0;32m      5\u001b[0m \u001b[0mn\u001b[0m \u001b[1;33m=\u001b[0m \u001b[1;36m0\u001b[0m\u001b[1;33m\u001b[0m\u001b[1;33m\u001b[0m\u001b[0m\n",
      "\u001b[1;31mFileNotFoundError\u001b[0m: [Errno 2] No such file or directory: 'trip_data_6.csv'"
     ]
    }
   ],
   "source": [
    "import csv\n",
    "\n",
    "f = open('trip_data_6.csv', 'r')\n",
    "reader = csv.reader(f)\n",
    "n = 0\n",
    "for row in reader:\n",
    "    print(row)\n",
    "    print(len(row))\n",
    "    n+=1\n",
    "    if n ==2:\n",
    "        break"
   ]
  },
  {
   "cell_type": "markdown",
   "id": "b34e68f6-f6b3-4c8d-b808-1e52aac2e57b",
   "metadata": {
    "id": "b34e68f6-f6b3-4c8d-b808-1e52aac2e57b"
   },
   "source": [
    "## 1) b) Date time range"
   ]
  },
  {
   "cell_type": "code",
   "execution_count": 2,
   "id": "38f077e8-5df5-49a4-8db2-9914f46a5ff8",
   "metadata": {
    "colab": {
     "base_uri": "https://localhost:8080/"
    },
    "id": "38f077e8-5df5-49a4-8db2-9914f46a5ff8",
    "outputId": "689315cb-021e-48ee-9600-fec12d4fa402"
   },
   "outputs": [
    {
     "name": "stdout",
     "output_type": "stream",
     "text": [
      "2013-06-01 00:00:00 2013-06-30 23:59:56\n"
     ]
    }
   ],
   "source": [
    "import csv\n",
    "import datetime\n",
    "\n",
    "lst =[]\n",
    "f = open('trip_data_6.csv', 'r')\n",
    "reader = csv.reader(f)\n",
    "\n",
    "minval = None\n",
    "maxval = None\n",
    "n = 0\n",
    "for row in reader:\n",
    "    if n > 0:\n",
    "        dto = None\n",
    "        dts = row[5]\n",
    "        try:\n",
    "            dto = datetime.datetime.strptime(dts,\"%Y-%m-%d %H:%M:%S\")\n",
    "        except Exception as e:\n",
    "            print(e)\n",
    "        if dto is not None:\n",
    "            if maxval is None or dto > maxval:\n",
    "                maxval = dto\n",
    "            elif minval is None or dto < minval:\n",
    "                minval = dto\n",
    "    n+=1\n",
    "lst.append(minval)\n",
    "lst.append(maxval)\n",
    "print(minval, maxval)"
   ]
  },
  {
   "cell_type": "code",
   "execution_count": 3,
   "id": "cb034ca8-6279-4a65-bf3d-14d0caaf3869",
   "metadata": {
    "colab": {
     "base_uri": "https://localhost:8080/"
    },
    "id": "cb034ca8-6279-4a65-bf3d-14d0caaf3869",
    "outputId": "30852829-2ec6-4f48-d637-464b6d24687a"
   },
   "outputs": [
    {
     "name": "stdout",
     "output_type": "stream",
     "text": [
      "[datetime.datetime(2013, 6, 1, 0, 0), datetime.datetime(2013, 6, 30, 23, 59, 56), datetime.datetime(2013, 3, 22, 8, 4), datetime.datetime(2013, 7, 1, 1, 14, 24)]\n",
      "2013-03-22 08:04:00 2013-07-01 01:14:24\n"
     ]
    }
   ],
   "source": [
    "import datetime,csv\n",
    "\n",
    "f = open('trip_data_6.csv', 'r')\n",
    "reader = csv.reader(f)\n",
    "\n",
    "minval = None\n",
    "maxval = None\n",
    "n = 0\n",
    "for row in reader:\n",
    "    if n > 0:\n",
    "        dto = None\n",
    "        dts = row[6]\n",
    "        try:\n",
    "            dto = datetime.datetime.strptime(dts,\"%Y-%m-%d %H:%M:%S\")\n",
    "        except Exception as e:\n",
    "            print(e)\n",
    "        if dto is not None:\n",
    "            if maxval is None or dto > maxval:\n",
    "                maxval = dto\n",
    "            elif minval is None or dto < minval:\n",
    "                minval = dto\n",
    "    n+=1\n",
    "lst.append(minval)\n",
    "lst.append(maxval)\n",
    "print(lst)\n",
    "print(minval, maxval)"
   ]
  },
  {
   "cell_type": "code",
   "execution_count": 4,
   "id": "5NJBqtWEtUF1",
   "metadata": {
    "colab": {
     "base_uri": "https://localhost:8080/"
    },
    "id": "5NJBqtWEtUF1",
    "outputId": "e9b141ab-a51e-433a-f64d-6bee41c751fb"
   },
   "outputs": [
    {
     "name": "stdout",
     "output_type": "stream",
     "text": [
      "2013-07-01 01:14:24 2013-03-22 08:04:00\n"
     ]
    }
   ],
   "source": [
    "print(max(lst), min(lst))"
   ]
  },
  {
   "cell_type": "markdown",
   "id": "c1db87c3-9fc2-46a3-95d8-a3e01f8e997f",
   "metadata": {
    "id": "c1db87c3-9fc2-46a3-95d8-a3e01f8e997f"
   },
   "source": [
    "## Part 2) "
   ]
  },
  {
   "cell_type": "markdown",
   "id": "2_8B2lajMZed",
   "metadata": {
    "id": "2_8B2lajMZed"
   },
   "source": [
    "###Part 3) & Part 4)"
   ]
  },
  {
   "cell_type": "code",
   "execution_count": 5,
   "id": "c74fruRLNKvt",
   "metadata": {
    "colab": {
     "base_uri": "https://localhost:8080/"
    },
    "id": "c74fruRLNKvt",
    "outputId": "a3b904ca-6a29-4b5b-f022-fdbc26550097"
   },
   "outputs": [
    {
     "name": "stdout",
     "output_type": "stream",
     "text": [
      "medallion| hack_license| vendor_id| rate_code| store_and_fwd_flag| pickup_datetime| dropoff_datetime| passenger_count| trip_time_in_secs| trip_distance| pickup_longitude| pickup_latitude| dropoff_longitude| dropoff_latitude\n",
      "---------------------------|---------------------------|---------------------------|---------------------------|---------------------------|---------------------------|---------------------------|---------------------------|---------------------------|---------------------------|---------------------------|---------------------------|---------------------------|---------------------------|\n",
      "D1C79CF706C80D3A1DC7FBCA6CD56E43|DAC7742E8F00034774098DBC6B4FF2B7|CMT|1|N|2013-06-03 00:02:12|2013-06-03 00:10:07|1|474|1.30|-73.981583|40.773529|-73.981827|40.782124\n",
      "3567E8B49FEBFCBB587F1864D723D5C8|430B8022563CDE1D51D44786DFD8D6CB|CMT|1|N|2013-06-03 00:03:03|2013-06-03 00:19:27|1|982|4.90|-73.999565|40.728367|-73.952927|40.729546\n",
      "4220E1995D36A40DF34664AD33ED13F6|48A1C9C9300AFC7BDBB718CE308EE45A|CMT|2|N|2013-06-03 00:01:30|2013-06-03 00:28:11|1|1745|17.70|-73.788445|40.641151|-73.985451|40.744194\n",
      "440900089FF528A873424DED689C77A3|E6A63B40E565A8A03AF32E0B138F5EB1|CMT|1|N|2013-06-03 00:04:14|2013-06-03 00:27:50|1|1415|12.10|-73.862816|40.768875|-74.008797|40.738842\n"
     ]
    }
   ],
   "source": [
    "import csv\n",
    "\n",
    "\n",
    "f = open('trip_data_6.csv', 'r')\n",
    "reader = csv.reader(f)\n",
    "n=0\n",
    "for row in reader:\n",
    "  for i in range(14):\n",
    "    if i!=13:\n",
    "      print(row[i], end='|')\n",
    "    else:\n",
    "      print(row[i])\n",
    "  \n",
    "  if n ==0:\n",
    "    print('---------------------------|'*14)\n",
    "  n+=1\n",
    "  if n==5:\n",
    "    break"
   ]
  },
  {
   "cell_type": "markdown",
   "id": "g-ZiBJ2ES1nK",
   "metadata": {
    "id": "g-ZiBJ2ES1nK"
   },
   "source": [
    "medallion| hack_license| vendor_id| rate_code| store_and_fwd_flag| pickup_datetime| dropoff_datetime| passenger_count| trip_time_in_secs| trip_distance| pickup_longitude| pickup_latitude| dropoff_longitude| dropoff_latitude\n",
    "---------------------------|---------------------------|---------------------------|---------------------------|---------------------------|---------------------------|---------------------------|---------------------------|---------------------------|---------------------------|---------------------------|---------------------------|---------------------------|\n",
    "D1C79CF706C80D3A1DC7FBCA6CD56E43|DAC7742E8F00034774098DBC6B4FF2B7|CMT|1|N|2013-06-03 00:02:12|2013-06-03 00:10:07|1|474|1.30|-73.981583|40.773529|-73.981827|40.782124\n",
    "3567E8B49FEBFCBB587F1864D723D5C8|430B8022563CDE1D51D44786DFD8D6CB|CMT|1|N|2013-06-03 00:03:03|2013-06-03 00:19:27|1|982|4.90|-73.999565|40.728367|-73.952927|40.729546\n",
    "4220E1995D36A40DF34664AD33ED13F6|48A1C9C9300AFC7BDBB718CE308EE45A|CMT|2|N|2013-06-03 00:01:30|2013-06-03 00:28:11|1|1745|17.70|-73.788445|40.641151|-73.985451|40.744194\n",
    "440900089FF528A873424DED689C77A3|E6A63B40E565A8A03AF32E0B138F5EB1|CMT|1|N|2013-06-03 00:04:14|2013-06-03 00:27:50|1|1415|12.10|-73.862816|40.768875|-74.008797|40.738842\n",
    "\n",
    "```\n",
    "# This is formatted as code\n",
    "```\n",
    "\n"
   ]
  },
  {
   "cell_type": "markdown",
   "id": "h7rhMBaINnt5",
   "metadata": {
    "id": "h7rhMBaINnt5"
   },
   "source": [
    "###Part 5)"
   ]
  },
  {
   "cell_type": "code",
   "execution_count": 6,
   "id": "ckXqchW9PFtR",
   "metadata": {
    "colab": {
     "base_uri": "https://localhost:8080/"
    },
    "id": "ckXqchW9PFtR",
    "outputId": "4aa4f845-d3fc-49e8-d331-9584cfc6163c"
   },
   "outputs": [
    {
     "name": "stdout",
     "output_type": "stream",
     "text": [
      "339 2084.3237 -2425.6233 3510.3816 -3481.1292\n"
     ]
    }
   ],
   "source": [
    "import csv \n",
    "\n",
    "f = open('trip_data_6.csv', 'r')\n",
    "reader = csv.reader(f)\n",
    "mlong = 0\n",
    "nlong = 0\n",
    "mlat = 0 \n",
    "nlat = 0\n",
    "ex =0\n",
    "for row in reader:\n",
    "  try:\n",
    "    if float(row[10]) >= float(row[12]) and float(row[10]) >= mlong:\n",
    "      mlong = float(row[10])\n",
    "    elif float(row[10]) <= float(row[12]) and float(row[10]) <= nlong:\n",
    "      nlong = float(row[10])\n",
    "    elif float(row[12]) >= float(row[10]) and float(row[12]) >= mlong:\n",
    "      mlong = float(row[12])\n",
    "    elif float(row[12]) <= float(row[10]) and float(row[12]) <= nlong:\n",
    "      nlong = float(row[12])\n",
    "    \n",
    "    if float(row[11]) >= float(row[13]) and float(row[11]) >= mlat:\n",
    "      mlat = float(row[11])\n",
    "    elif float(row[11]) <= float(row[13]) and float(row[11]) <= nlat:\n",
    "      nlat = float(row[11])\n",
    "    elif float(row[13]) >= float(row[11]) and float(row[13]) >= mlat:\n",
    "      mlat = float(row[13])\n",
    "    elif float(row[13]) <= float(row[11]) and float(row[13]) <= nlat:\n",
    "      nlat = float(row[13])\n",
    "  except Exception as e:\n",
    "    ex+=1\n",
    "\n",
    "\n",
    "print(ex, mlong,nlong, mlat,nlat)"
   ]
  },
  {
   "cell_type": "markdown",
   "id": "GZcC6joBgUEi",
   "metadata": {
    "id": "GZcC6joBgUEi"
   },
   "source": [
    "### Part 6)"
   ]
  },
  {
   "cell_type": "code",
   "execution_count": 7,
   "id": "45de5fcd-d52b-4ea5-a20a-def010f9b232",
   "metadata": {
    "colab": {
     "base_uri": "https://localhost:8080/"
    },
    "id": "45de5fcd-d52b-4ea5-a20a-def010f9b232",
    "outputId": "9800232e-e904-4877-d56b-ee0c6bc7e913"
   },
   "outputs": [],
   "source": [
    "from math import radians, cos, sin, asin, sqrt\n",
    "import csv\n",
    "\n",
    "f = open('trip_data_6.csv', 'r')\n",
    "reader = csv.reader(f)\n",
    "\n",
    "def haversine(lon1, lat1, lon2, lat2):\n",
    "    \"\"\"\n",
    "    Calculate the great circle distance in kilometers between two points \n",
    "    on the earth (specified in decimal degrees)\n",
    "    \"\"\"\n",
    "    # convert decimal degrees to radians \n",
    "    lon1, lat1, lon2, lat2 = map(radians, [lon1, lat1, lon2, lat2])\n",
    "\n",
    "    # haversine formula \n",
    "    dlon = lon2 - lon1 \n",
    "    dlat = lat2 - lat1 \n",
    "    a = sin(dlat/2)**2 + cos(lat1) * cos(lat2) * sin(dlon/2)**2\n",
    "    c = 2 * asin(sqrt(a)) \n",
    "    r = 6371 # Radius of earth in kilometers. Use 3956 for miles. Determines return value units.\n",
    "    return c * r\n",
    "\n",
    "\n",
    "n=0\n",
    "hd = 0.0\n",
    "ex_dp =0\n",
    "x = []\n",
    "for row in reader:\n",
    "  n+=1\n",
    "  try:\n",
    "    a,b,c,d = float(row[10]),float(row[11]),float(row[12]),float(row[13])\n",
    "    hd += haversine(a,b,c,d)\n",
    "    #print(hd)\n",
    "    x.append(haversine(float(row[10]),float(row[11]),float(row[12]),float(row[13])))\n",
    "  except Exception as e:\n",
    "    ex_dp +=1"
   ]
  },
  {
   "cell_type": "code",
   "execution_count": 8,
   "id": "84f27182-db74-48f6-978e-b55fcea0c257",
   "metadata": {
    "colab": {
     "base_uri": "https://localhost:8080/"
    },
    "id": "84f27182-db74-48f6-978e-b55fcea0c257",
    "outputId": "88cc03e1-df97-4d77-c84a-b8786e557ad5"
   },
   "outputs": [
    {
     "name": "stdout",
     "output_type": "stream",
     "text": [
      "Average Haversine Distance = 19.098444218494517\n"
     ]
    }
   ],
   "source": [
    "\n",
    "print(\"Average Haversine Distance =\", hd/(n-ex_dp) )\n"
   ]
  },
  {
   "cell_type": "code",
   "execution_count": 9,
   "id": "pgfOqyGWbqCA",
   "metadata": {
    "colab": {
     "base_uri": "https://localhost:8080/"
    },
    "id": "pgfOqyGWbqCA",
    "outputId": "7f8b189d-82e1-45f4-837e-5c5bce6605ee"
   },
   "outputs": [
    {
     "name": "stdout",
     "output_type": "stream",
     "text": [
      "[0.9559412024587971, 3.9320921168472305, 20.178204865716538, 12.74175812697582, 1.339937570319529]\n",
      "19806.56619252939 0.0\n"
     ]
    }
   ],
   "source": [
    "print(x[:5])\n",
    "mx = max(x)\n",
    "mn = min(x)\n",
    "print(mx,mn)"
   ]
  },
  {
   "cell_type": "code",
   "execution_count": 10,
   "id": "ba3ff8d6-840c-4f80-b8a7-5906d437c2ee",
   "metadata": {
    "colab": {
     "base_uri": "https://localhost:8080/",
     "height": 770
    },
    "id": "ba3ff8d6-840c-4f80-b8a7-5906d437c2ee",
    "outputId": "22614637-91a6-4f99-a986-d6f689e68de6"
   },
   "outputs": [
    {
     "name": "stdout",
     "output_type": "stream",
     "text": [
      "[0.9559412024587971, 3.9320921168472305, 20.178204865716538, 12.74175812697582, 1.339937570319529]\n"
     ]
    },
    {
     "data": {
      "image/png": "[encoded data removed]",
      "text/plain": [
       "<Figure size 1000x700 with 1 Axes>"
      ]
     },
     "metadata": {},
     "output_type": "display_data"
    },
    {
     "data": {
      "image/png": "[encoded data removed]",
      "text/plain": [
       "<Figure size 1000x500 with 1 Axes>"
      ]
     },
     "metadata": {},
     "output_type": "display_data"
    }
   ],
   "source": [
    "print(x[:5])\n",
    "#import matplotlib\n",
    "from matplotlib import pyplot as plt\n",
    "plt.style.use('seaborn')\n",
    "import numpy as np\n",
    " \n",
    "# Creating histogram\n",
    "fig, ax = plt.subplots(figsize =(10, 7))\n",
    "ax.hist(x, bins = [0,5,10,15,20,25,30])\n",
    " \n",
    "# Show plot\n",
    "plt.show()\n",
    "\n",
    "fig, ax = plt.subplots(figsize =(10, 5))\n",
    "ax.hist(x, bins = [0,2500, 5000,7500,10000,12500])\n",
    " \n",
    "# Show plot\n",
    "plt.show()"
   ]
  },
  {
   "cell_type": "markdown",
   "id": "e4bIf70JZvNt",
   "metadata": {
    "id": "e4bIf70JZvNt"
   },
   "source": [
    "##Part 7)"
   ]
  },
  {
   "cell_type": "code",
   "execution_count": 11,
   "id": "tMm9b8DRZ3XI",
   "metadata": {
    "colab": {
     "base_uri": "https://localhost:8080/"
    },
    "id": "tMm9b8DRZ3XI",
    "outputId": "6081be2e-06af-4263-8637-4087d3e2569f"
   },
   "outputs": [
    {
     "name": "stdout",
     "output_type": "stream",
     "text": [
      "13560 33487 3 12 4 10 6610\n"
     ]
    }
   ],
   "source": [
    "from math import radians, cos, sin, asin, sqrt\n",
    "import csv\n",
    "\n",
    "n=0\n",
    "med = dict()\n",
    "hack_l = dict()\n",
    "vid = dict()\n",
    "rc= dict()\n",
    "snff= dict()\n",
    "pc = dict()\n",
    "tt = dict()\n",
    "f = open('trip_data_6.csv', 'r')\n",
    "reader = csv.reader(f)\n",
    "for row in reader:\n",
    "  if row[0] in med:\n",
    "    med[row[0]]+=1\n",
    "  else:\n",
    "    med[row[0]]=1\n",
    "\n",
    "  if row[1] in hack_l:\n",
    "    hack_l[row[1]]+=1\n",
    "  else:\n",
    "    hack_l[row[1]]=1\n",
    "\n",
    "  if row[2] in vid:\n",
    "    vid[row[2]]+=1\n",
    "  else:\n",
    "    vid[row[2]]=1\n",
    "\n",
    "  if row[3] in rc:\n",
    "    rc[row[3]]+=1\n",
    "  else:\n",
    "    rc[row[3]]=1\n",
    "\n",
    "  if row[4] in snff:\n",
    "    snff[row[4]]+=1\n",
    "  else:\n",
    "    snff[row[4]]=1\n",
    "\n",
    "  if row[7] in pc:\n",
    "    pc[row[7]]+=1\n",
    "  else:\n",
    "    pc[row[7]]=1\n",
    "  \n",
    "  if row[8] in tt:\n",
    "    tt[row[8]] +=1\n",
    "  else:\n",
    "    tt[row[8]] =1\n",
    "  n+=1\n",
    "\n",
    "print(len(med), len(hack_l), len(vid), len(rc), len(snff), len(pc),len(tt))\n"
   ]
  },
  {
   "cell_type": "code",
   "execution_count": 12,
   "id": "vYRq7ilAaY40",
   "metadata": {
    "colab": {
     "base_uri": "https://localhost:8080/"
    },
    "id": "vYRq7ilAaY40",
    "outputId": "ec4dc78b-44e2-408a-84c4-002e635ed28a"
   },
   "outputs": [
    {
     "name": "stdout",
     "output_type": "stream",
     "text": [
      "4231 44958 68774 62729 94800\n"
     ]
    }
   ],
   "source": [
    "import csv\n",
    "\n",
    "f = open('trip_data_6.csv', 'r')\n",
    "reader = csv.reader(f)\n",
    "\n",
    "td_9 = dict()\n",
    "plong_10 = dict()\n",
    "plat_11 = dict()\n",
    "dlong_12 = dict()\n",
    "dlat_13 = dict()\n",
    "for row in reader:\n",
    "  if row[9] in td_9:\n",
    "    td_9[row[9]]+=1\n",
    "  else:\n",
    "    td_9[row[9]]=1 \n",
    "\n",
    "  if row[10] in plong_10:\n",
    "    plong_10[row[10]]+=1\n",
    "  else:\n",
    "    plong_10[row[10]]=1 \n",
    "\n",
    "  if row[11] in plat_11:\n",
    "    plat_11[row[11]]+=1\n",
    "  else:\n",
    "    plat_11[row[11]]=1\n",
    "\n",
    "  if row[12] in dlong_12:\n",
    "    dlong_12[row[12]]+=1\n",
    "  else:\n",
    "    dlong_12[row[12]]=1\n",
    "\n",
    "  if row[13] in dlat_13:\n",
    "    dlat_13[row[13]]+=1\n",
    "  else:\n",
    "    dlat_13[row[13]]=1\n",
    "\n",
    "print(len(td_9),len(plong_10),len(plat_11),len(dlong_12),len(dlat_13))"
   ]
  },
  {
   "cell_type": "code",
   "execution_count": 18,
   "id": "3IEbWsxSnXD3",
   "metadata": {
    "colab": {
     "base_uri": "https://localhost:8080/"
    },
    "id": "3IEbWsxSnXD3",
    "outputId": "302ca073-762a-4076-ee36-ef44b03be5bb"
   },
   "outputs": [
    {
     "name": "stdout",
     "output_type": "stream",
     "text": [
      "{'rate_code': 1, '1': 14456067, '2': 239160, '4': 22831, '5': 39889, '3': 17655, '6': 315, '8': 10, '0': 667, '210': 11, '28': 2, '7': 2, '9': 1, '65': 1, '128': 4}\n"
     ]
    }
   ],
   "source": [
    "print(rc)"
   ]
  },
  {
   "cell_type": "markdown",
   "id": "kza1-oS18dmv",
   "metadata": {
    "id": "kza1-oS18dmv"
   },
   "source": [
    "### Part 8"
   ]
  },
  {
   "cell_type": "code",
   "execution_count": 13,
   "id": "ofgpEERasnIa",
   "metadata": {
    "colab": {
     "base_uri": "https://localhost:8080/"
    },
    "id": "ofgpEERasnIa",
    "outputId": "1c0c75e4-a744-4baf-96bd-da7198cfddf9"
   },
   "outputs": [],
   "source": [
    "import csv\n",
    " \n",
    "f = open('trip_data_6.csv', 'r')\n",
    "reader = csv.reader(f)"
   ]
  },
  {
   "cell_type": "code",
   "execution_count": 14,
   "id": "9j1OV3ot9J1A",
   "metadata": {
    "colab": {
     "base_uri": "https://localhost:8080/"
    },
    "id": "9j1OV3ot9J1A",
    "outputId": "ba4f60e0-b4e0-4f47-b4f5-7ad945f483ce"
   },
   "outputs": [
    {
     "name": "stdout",
     "output_type": "stream",
     "text": [
      "invalid literal for int() with base 10: ' rate_code'\n",
      "invalid literal for int() with base 10: ' passenger_count'\n",
      "invalid literal for int() with base 10: ' trip_time_in_secs'\n",
      "could not convert string to float: ' trip_distance'\n",
      "14385457\n"
     ]
    }
   ],
   "source": [
    "min_rc = 0\n",
    "max_rc = 0\n",
    "min_pc= 0\n",
    "max_pc = 0\n",
    "min_tis = 0\n",
    "max_tis= 0\n",
    "min_td = 0\n",
    "max_td = 0\n",
    "n=0\n",
    "for row in reader:\n",
    "  n+=1\n",
    "  try:\n",
    "    if int(row[3]) <= min_rc or min_rc ==0:\n",
    "      min_rc = int(row[3])\n",
    "    if int(row[3]) >= max_rc or max_rc ==0:\n",
    "      max_rc = int(row[3])\n",
    "  except Exception as e:\n",
    "    print(e)\n",
    "  try:\n",
    "    if int(row[7]) <= min_pc or min_pc ==0:\n",
    "      min_pc = int(row[7])\n",
    "    if int(row[7]) >= max_pc or max_pc ==0:\n",
    "      max_pc = int(row[7])\n",
    "  except Exception as e:\n",
    "    print(e)\n",
    "  try:\n",
    "    if int(row[8]) <= min_tis or min_tis ==0:\n",
    "      min_tis = int(row[8])\n",
    "    if int(row[8]) >= max_tis or max_tis ==0:\n",
    "      max_tis = int(row[8])\n",
    "  except Exception as e:\n",
    "    print(e)\n",
    "  try:\n",
    "    if float(row[9]) <= min_td or min_td ==0:\n",
    "      min_td = float(row[9])\n",
    "    if float(row[9]) >= max_tis or max_td ==0:\n",
    "      max_td = float(row[9])\n",
    "  except Exception as e:\n",
    "    print(e)\n",
    "\n",
    "\n",
    "print(n)\n",
    "\n"
   ]
  },
  {
   "cell_type": "code",
   "execution_count": 15,
   "id": "ENGvNcsPkxpF",
   "metadata": {
    "colab": {
     "base_uri": "https://localhost:8080/"
    },
    "id": "ENGvNcsPkxpF",
    "outputId": "2b01fbe0-6347-4b88-fc17-28ecca9bf47a"
   },
   "outputs": [
    {
     "name": "stdout",
     "output_type": "stream",
     "text": [
      "210 1\n",
      "208 1\n",
      "10800 240\n",
      "1.3 0.04\n"
     ]
    }
   ],
   "source": [
    "print(max_rc, min_rc)\n",
    "print(max_pc, min_pc)\n",
    "print(max_tis, min_tis)\n",
    "print(max_td, min_td)"
   ]
  },
  {
   "cell_type": "markdown",
   "id": "VOXwcYNjnwDm",
   "metadata": {
    "id": "VOXwcYNjnwDm"
   },
   "source": [
    "### Part 9"
   ]
  },
  {
   "cell_type": "code",
   "execution_count": 16,
   "id": "psOmkVuqk4h-",
   "metadata": {
    "colab": {
     "base_uri": "https://localhost:8080/"
    },
    "id": "psOmkVuqk4h-",
    "outputId": "10a086eb-5007-46d7-fab8-5a22883642be"
   },
   "outputs": [],
   "source": [
    "import csv\n",
    "\n",
    "f = open('trip_data_6.csv', 'r')\n",
    "reader = csv.reader(f)"
   ]
  },
  {
   "cell_type": "code",
   "execution_count": 17,
   "id": "YqxDUJVtoH_O",
   "metadata": {
    "colab": {
     "base_uri": "https://localhost:8080/"
    },
    "id": "YqxDUJVtoH_O",
    "outputId": "5559987d-89df-4c56-fb0b-4cfa040845a5"
   },
   "outputs": [
    {
     "name": "stdout",
     "output_type": "stream",
     "text": [
      "['medallion', ' hack_license', ' vendor_id', ' rate_code', ' store_and_fwd_flag', ' pickup_datetime', ' dropoff_datetime', ' passenger_count', ' trip_time_in_secs', ' trip_distance', ' pickup_longitude', ' pickup_latitude', ' dropoff_longitude', ' dropoff_latitude']\n"
     ]
    }
   ],
   "source": [
    "for row in reader:\n",
    "  print(row)\n",
    "  break"
   ]
  },
  {
   "cell_type": "code",
   "execution_count": 18,
   "id": "j1b37vfPpFAb",
   "metadata": {
    "colab": {
     "base_uri": "https://localhost:8080/"
    },
    "id": "j1b37vfPpFAb",
    "outputId": "a5f01319-12fd-4cf2-bdf4-4b7687b0a488"
   },
   "outputs": [
    {
     "name": "stdout",
     "output_type": "stream",
     "text": [
      "time data ' pickup_datetime' does not match format '%Y-%m-%d %H:%M:%S'\n",
      "invalid literal for int() with base 10: ' passenger_count'\n"
     ]
    }
   ],
   "source": [
    "import datetime,csv\n",
    "\n",
    "f = open('trip_data_6.csv', 'r')\n",
    "reader = csv.reader(f)\n",
    "exp =0\n",
    "n=0\n",
    "pcl =  [0,0,0,0,0,0,0,0,0,0,0,0,0,0,0,0,0,0,0,0,0,0,0,0]\n",
    "hc =  [0,0,0,0,0,0,0,0,0,0,0,0,0,0,0,0,0,0,0,0,0,0,0,0]\n",
    "\n",
    "#f = open(fn, 'r')\n",
    "#reader = csv.reader(f)\n",
    "for row in reader:\n",
    "  n+=1\n",
    "  try:\n",
    "    dts = row[5]\n",
    "    dto = datetime.datetime.strptime(dts,\"%Y-%m-%d %H:%M:%S\")\n",
    "  except Exception as e:\n",
    "    exp+=1\n",
    "    print(e)\n",
    "  h = dto.hour  \n",
    "  try:\n",
    "    ipc = int(row[7])    \n",
    "    hc[h]+=1\n",
    "    pcl[h]+=ipc\n",
    "  except Exception as e:\n",
    "    print(e)"
   ]
  },
  {
   "cell_type": "code",
   "execution_count": 19,
   "id": "CBC3n1uCILbQ",
   "metadata": {
    "id": "CBC3n1uCILbQ"
   },
   "outputs": [],
   "source": [
    "averages = []\n",
    "\n",
    "for i in range(len(hc)):\n",
    "  averages.append(pcl[i] / hc[i])"
   ]
  },
  {
   "cell_type": "code",
   "execution_count": 20,
   "id": "6xMizOvh12_-",
   "metadata": {
    "colab": {
     "base_uri": "https://localhost:8080/",
     "height": 440
    },
    "id": "6xMizOvh12_-",
    "outputId": "3614d97d-fd52-4ff3-edb1-e515a59e0185"
   },
   "outputs": [
    {
     "data": {
      "image/png": "[encoded data removed]",
      "text/plain": [
       "<Figure size 2000x600 with 1 Axes>"
      ]
     },
     "metadata": {},
     "output_type": "display_data"
    }
   ],
   "source": [
    "\n",
    "from matplotlib import pyplot as plt\n",
    "plt.style.use('seaborn')\n",
    "import numpy as np\n",
    " \n",
    "# Creating histogram\n",
    "plt.figure(figsize=(20,6))\n",
    "plt.xlabel('Hour of the day')\n",
    "plt.ylabel('Average number of taxi passengers')\n",
    "plt.title('Average number of taxi passengers for each hour of the day')\n",
    "plt.bar(x=range(0,24), height=averages)\n",
    "plt.show()"
   ]
  },
  {
   "cell_type": "markdown",
   "id": "e87c72b7-1073-412e-bf3b-f4155ab7736e",
   "metadata": {},
   "source": [
    "## Part 10) & Part 11)"
   ]
  },
  {
   "cell_type": "code",
   "execution_count": null,
   "id": "74cce21f-d946-480d-a96c-4558e78f0807",
   "metadata": {},
   "outputs": [],
   "source": [
    "import csv\n",
    "fn = 'trip_data_6.csv'\n",
    "f = open(fn, 'r')\n",
    "reader = csv.reader(f)\n",
    "fnew = open('new.csv', 'w')\n",
    "fnew.write('')\n",
    "fnew.close()\n",
    "fnew = open('new.csv', 'w')\n",
    "writer = csv.writer(fnew,delimiter=',',lineterminator='\\n')\n",
    "\n",
    "n = 0\n",
    "nn=0\n",
    "for row in reader:\n",
    "    if n % 1000 == 0:\n",
    "        nn+=1\n",
    "        writer.writerow(row)\n",
    "    n+=1\n",
    "print(n,nn)\n",
    "fnew.close"
   ]
  },
  {
   "cell_type": "code",
   "execution_count": null,
   "id": "84a3f6ed-39a3-4ee2-82d6-b20a02ac2751",
   "metadata": {},
   "outputs": [],
   "source": [
    "import csv\n",
    "fnew = 'new.csv'\n",
    "reader = open(fnew,'r')\n",
    "n=0\n",
    "for row in reader:\n",
    "    n+=1\n",
    "print(n)    "
   ]
  },
  {
   "cell_type": "code",
   "execution_count": null,
   "id": "7fb172fa-5fb5-4a67-aaca-2265ac05ec3d",
   "metadata": {},
   "outputs": [],
   "source": [
    "import datetime,csv\n",
    "\n",
    "f = open('new.csv', 'r')\n",
    "reader = csv.reader(f)\n",
    "exp =0\n",
    "n=0\n",
    "pcl =  [0,0,0,0,0,0,0,0,0,0,0,0,0,0,0,0,0,0,0,0,0,0,0,0]\n",
    "hc =  [0,0,0,0,0,0,0,0,0,0,0,0,0,0,0,0,0,0,0,0,0,0,0,0]\n",
    "\n",
    "#f = open(fn, 'r')\n",
    "#reader = csv.reader(f)\n",
    "for row in reader:\n",
    "  n+=1\n",
    "  try:\n",
    "    dts = row[5]\n",
    "    dto = datetime.datetime.strptime(dts,\"%Y-%m-%d %H:%M:%S\")\n",
    "  except Exception as e:\n",
    "    exp+=1\n",
    "    print(e)\n",
    "  h = dto.hour  \n",
    "  try:\n",
    "    ipc = int(row[7])    \n",
    "    hc[h]+=1\n",
    "    pcl[h]+=ipc\n",
    "  except Exception as e:\n",
    "    print(e)\n",
    "\n",
    "        #except Exception as e:\n",
    "         # exp+=1\n",
    "          #print(e)\n",
    "\n"
   ]
  },
  {
   "cell_type": "code",
   "execution_count": null,
   "id": "5b21d7d0-3e1b-4505-a97a-d08c60da2d5f",
   "metadata": {},
   "outputs": [],
   "source": [
    "averages = []\n",
    "\n",
    "for i in range(len(hc)):\n",
    "  averages.append(pcl[i] / hc[i])"
   ]
  },
  {
   "cell_type": "code",
   "execution_count": null,
   "id": "4c8e235f-274c-48f0-88b7-988911a02b85",
   "metadata": {},
   "outputs": [],
   "source": [
    "!pip install matplotlib\n",
    "from matplotlib import pyplot as plt\n",
    "plt.style.use('seaborn')\n",
    "import numpy as np\n",
    " \n",
    "# Creating histogram\n",
    "plt.figure(figsize=(20,6))\n",
    "plt.xlabel('Hour of the day')\n",
    "plt.ylabel('Average number of taxi passengers')\n",
    "plt.title('Average number of taxi passengers for each hour of the day')\n",
    "plt.bar(x=range(0,24), height=averages)\n",
    "plt.show()"
   ]
  },
  {
   "cell_type": "code",
   "execution_count": null,
   "id": "489fd761-9ddd-4d7c-9a43-371e17e5d7ad",
   "metadata": {},
   "outputs": [],
   "source": [
    "import datetime,csv\n",
    "ml = ['12','10']\n",
    "\n",
    "fn = 'full_parking_violations_2016.csv'\n",
    "f = open(fn,'r')\n",
    "reader = csv.reader(f)\n",
    "\n",
    "f2 = open('oct_dec_subset.csv','w')\n",
    "f2.write('')\n",
    "f2.close()\n",
    "\n",
    "f2 = open('oct_dec_subset.csv','a')\n",
    "writer = csv.writer(f2,delimiter=',',lineterminator='\\n')\n",
    "for i, row in enumerate(reader):\n",
    "    if i > 0:\n",
    "        dt = row[4].split('/')\n",
    "        ms = dt[0]\n",
    "        if ms in ml:\n",
    "            writer.writerow(row)\n",
    "    else:\n",
    "        writer.writerow(row)\n",
    "f.close()\n",
    "f2.close()"
   ]
  }
 ],
 "metadata": {
  "colab": {
   "collapsed_sections": [],
   "provenance": []
  },
  "kernelspec": {
   "display_name": "Python 3 (ipykernel)",
   "language": "python",
   "name": "python3"
  },
  "language_info": {
   "codemirror_mode": {
    "name": "ipython",
    "version": 3
   },
   "file_extension": ".py",
   "mimetype": "text/x-python",
   "name": "python",
   "nbconvert_exporter": "python",
   "pygments_lexer": "ipython3",
   "version": "3.7.4"
  }
 },
 "nbformat": 4,
 "nbformat_minor": 5
}
