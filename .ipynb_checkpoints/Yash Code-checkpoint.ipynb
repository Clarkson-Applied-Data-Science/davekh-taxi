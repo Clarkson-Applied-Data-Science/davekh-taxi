{
 "cells": [
  {
   "cell_type": "code",
   "execution_count": 18,
   "id": "12c38722-1888-4f52-8e2c-0f5cacb936fd",
   "metadata": {
    "tags": []
   },
   "outputs": [
    {
     "name": "stdout",
     "output_type": "stream",
     "text": [
      "289590408.492687\n",
      "289590408.492687\n",
      "14776529\n",
      "14776616\n"
     ]
    }
   ],
   "source": [
    "import csv\n",
    "from math import radians, cos, sin, asin, sqrt\n",
    "\n",
    "fn = 'trip_data_1.csv'\n",
    "\n",
    "f = open(fn, 'r')\n",
    "reader = csv.reader(f)\n",
    "ud = 0\n",
    "\n",
    "def haversine(lon1, lat1, lon2, lat2):\n",
    "    \"\"\"\n",
    "    Calculate the great circle distance in kilometers between two points \n",
    "    on the earth (specified in decimal degrees)\n",
    "    \"\"\"\n",
    "    # convert decimal degrees to radians \n",
    "    lon1, lat1, lon2, lat2 = map(radians, [lon1, lat1, lon2, lat2])\n",
    "\n",
    "    # haversine formula \n",
    "    dlon = lon2 - lon1 \n",
    "    dlat = lat2 - lat1 \n",
    "    a = sin(dlat/2)**2 + cos(lat1) * cos(lat2) * sin(dlon/2)**2\n",
    "    c = 2 * asin(sqrt(a)) \n",
    "    r = 6371 # Radius of earth in kilometers. Use 3956 for miles. Determines return value units.\n",
    "    return c * r\n",
    "\n",
    "\n",
    "n=0\n",
    "hd = 0.0\n",
    "x = []\n",
    "for row in reader:\n",
    "  #if n!=0:\n",
    "  try:\n",
    "      hd += haversine(float(row[10]),float(row[11]),float(row[12]),float(row[13]))\n",
    "      x.append(haversine(float(row[10]),float(row[11]),float(row[12]),float(row[13])))\n",
    "  except Exception as e:\n",
    "    #print(float(row[10]),float(row[11]),float(row[12]),float(row[13]))\n",
    "    #print(e)\n",
    "    ud+=1\n",
    "  n+=1\n",
    "  #if n==5000:\n",
    "    #break\n",
    "       \n",
    "\n",
    "\n",
    "print(hd)\n",
    "print(sum(x))\n",
    "print(len(x))\n",
    "print(n)"
   ]
  },
  {
   "cell_type": "code",
   "execution_count": 19,
   "id": "e3edbe28",
   "metadata": {},
   "outputs": [
    {
     "name": "stdout",
     "output_type": "stream",
     "text": [
      "14776529\n"
     ]
    }
   ],
   "source": [
    "print(n-ud)"
   ]
  },
  {
   "cell_type": "code",
   "execution_count": 25,
   "id": "8da37231-ec6e-4726-bc7e-d0e0f21ad759",
   "metadata": {},
   "outputs": [
    {
     "data": {
      "text/plain": [
       "(array([1.2323683e+07, 1.7201210e+06, 3.6222700e+05, 1.6746300e+05,\n",
       "        1.6241400e+05, 5.9920000e+03]),\n",
       " array([ 0,  5, 10, 15, 20, 25, 30]),\n",
       " <BarContainer object of 6 artists>)"
      ]
     },
     "execution_count": 25,
     "metadata": {},
     "output_type": "execute_result"
    },
    {
     "data": {
      "image/png": "[encoded data removed]",
      "text/plain": [
       "<Figure size 640x480 with 1 Axes>"
      ]
     },
     "metadata": {},
     "output_type": "display_data"
    }
   ],
   "source": [
    "import matplotlib.pyplot as plt\n",
    "import numpy as np\n",
    "%matplotlib inline\n",
    "\n",
    "binss = [0, 5, 10, 15, 20, 25, 30]\n",
    "\n",
    "plt.hist(x, bins=binss) \n"
   ]
  },
  {
   "cell_type": "code",
   "execution_count": null,
   "id": "f982c409-b9bb-4c02-9fe6-cee9bfa81ee0",
   "metadata": {},
   "outputs": [],
   "source": []
  }
 ],
 "metadata": {
  "kernelspec": {
   "display_name": "Python 3 (ipykernel)",
   "language": "python",
   "name": "python3"
  },
  "language_info": {
   "codemirror_mode": {
    "name": "ipython",
    "version": 3
   },
   "file_extension": ".py",
   "mimetype": "text/x-python",
   "name": "python",
   "nbconvert_exporter": "python",
   "pygments_lexer": "ipython3",
   "version": "3.7.4"
  },
  "vscode": {
   "interpreter": {
    "hash": "497338f01161d141240caa60efca5087225791fadc9b7c964beb65d863e046f0"
   }
  }
 },
 "nbformat": 4,
 "nbformat_minor": 5
}
